{
  "nbformat": 4,
  "nbformat_minor": 0,
  "metadata": {
    "colab": {
      "provenance": []
    },
    "kernelspec": {
      "name": "python3",
      "display_name": "Python 3"
    },
    "language_info": {
      "name": "python"
    }
  },
  "cells": [
    {
      "cell_type": "markdown",
      "source": [
        "1).What is the difference between interpreted and compiled languages?"
      ],
      "metadata": {
        "id": "Sd_zClf3uUX8"
      }
    },
    {
      "cell_type": "markdown",
      "metadata": {
        "id": "aec2cf24"
      },
      "source": [
        "ANSWER)- The difference between interpreted and compiled languages lies in how the code is executed:\n",
        "\n",
        "*   **Compiled Languages:** The code is translated into machine code before execution by a compiler. This creates an executable file that can run directly on the computer's hardware. Examples include C, C++, and Java. Compiled languages generally offer faster execution speeds but require a separate compilation step.\n",
        "*   **Interpreted Languages:** The code is executed line by line by an interpreter. The interpreter reads and executes the code directly, without a prior compilation step. Examples include Python, JavaScript, and Ruby. Interpreted languages are generally more flexible and easier to debug but can be slower than compiled languages."
      ]
    },
    {
      "cell_type": "markdown",
      "source": [
        "2).What is exception handling in Python?"
      ],
      "metadata": {
        "id": "WVYr0XYvuVSw"
      }
    },
    {
      "cell_type": "markdown",
      "metadata": {
        "id": "5646a767"
      },
      "source": [
        "ANSWER)- Exception handling in Python is a mechanism that allows you to manage errors that occur during the execution of your program. When an error, called an exception, occurs, the normal flow of the program is interrupted. Exception handling provides a structured way to catch these exceptions, prevent your program from crashing, and execute specific code to handle the error gracefully. This makes your programs more robust and reliable."
      ]
    },
    {
      "cell_type": "markdown",
      "source": [
        "3).What is the purpose of the finally block in exception handling?"
      ],
      "metadata": {
        "id": "M25efpkxuWXO"
      }
    },
    {
      "cell_type": "markdown",
      "metadata": {
        "id": "53abed4a"
      },
      "source": [
        "ANSWER)- The \"finally\" block in exception handling is used to define a block of code that will be executed regardless of whether an exception occurred in the \"try\" block or not. It is typically used for cleanup operations, such as closing files or releasing resources, ensuring that these actions are performed even if an error occurs during the execution of the program."
      ]
    },
    {
      "cell_type": "markdown",
      "source": [
        "4).What is logging in Python?"
      ],
      "metadata": {
        "id": "Nd_T6fSLuXIc"
      }
    },
    {
      "cell_type": "markdown",
      "metadata": {
        "id": "ea3eea96"
      },
      "source": [
        "ANSWER)- Logging in Python is a way to record events that happen while your program is running. These events can be errors, warnings, or just informational messages. It's very useful for understanding what your program is doing, especially when you're trying to find bugs or monitor it in production. The \"logging\" module provides a flexible framework for doing this."
      ]
    },
    {
      "cell_type": "markdown",
      "source": [
        "5).What is the significance of the __del__ method in Python?"
      ],
      "metadata": {
        "id": "KUE982wmuYeI"
      }
    },
    {
      "cell_type": "markdown",
      "metadata": {
        "id": "c7c2a4af"
      },
      "source": [
        "ANSWER)- The \"__del_\" method in Python, also known as the destructor, is a special method that is called when an object is about to be garbage collected. Its primary significance is to perform cleanup operations before an object is destroyed and its memory is reclaimed. This can include tasks like closing files, releasing network connections, or freeing other external resources that the object might be holding.\n",
        "\n",
        "However, it's important to note that the exact timing of when\n",
        "\"__del__\" is called is not guaranteed due to Python's garbage collection mechanism. Relying heavily on \"__del__\" for critical cleanup can be unpredictable. For reliable resource management, especially with files and network connections, using context managers (with the with\" statement) is generally the preferred and safer approach. The \"__del__\" method is more commonly used for less critical cleanup or for debugging purposes."
      ]
    },
    {
      "cell_type": "markdown",
      "source": [
        "6).What is the difference between import and from ... import in Python?"
      ],
      "metadata": {
        "id": "RVfwS6GyuZb2"
      }
    },
    {
      "cell_type": "markdown",
      "metadata": {
        "id": "5fac10fa"
      },
      "source": [
        "ANSWER)- \"import module_name\" imports the whole module, so you use \"module_name.object\". \"from module_name import object_name\" imports specific objects directly, so you use just \"object_name\"."
      ]
    },
    {
      "cell_type": "markdown",
      "source": [
        "7).How can you handle multiple exceptions in Python?"
      ],
      "metadata": {
        "id": "gTkHgciSuaag"
      }
    },
    {
      "cell_type": "markdown",
      "metadata": {
        "id": "460f4229"
      },
      "source": [
        "ANSWER)- You can handle multiple exceptions in Python using several approaches within the 'except' block:\n",
        "\n",
        "1.  **Multiple 'except' blocks:** You can have multiple 'except' blocks, each handling a different type of exception. The code will execute the first 'except' block whose exception type matches the raised exception."
      ]
    },
    {
      "cell_type": "markdown",
      "source": [
        "8).What is the purpose of the with statement when handling files in Python?"
      ],
      "metadata": {
        "id": "woe_-A2Wubiu"
      }
    },
    {
      "cell_type": "markdown",
      "metadata": {
        "id": "12e84f37"
      },
      "source": [
        "ANSWER)- The 'with' statement in Python is used for resource management, particularly in file handling, to ensure that resources are properly acquired and released, even if errors occur. When used with file operations, it guarantees that the file is automatically closed after the block of code is executed, regardless of whether exceptions were raised or not. This is a safer and more reliable way to handle files than manually calling the 'close()' method. It works by using context managers, which define '__enter__' and '__exit__' methods to handle resource setup and teardown."
      ]
    },
    {
      "cell_type": "markdown",
      "source": [
        "9).What is the purpose of the with statement when handling files in Python?"
      ],
      "metadata": {
        "id": "2ujaaNCCucpO"
      }
    },
    {
      "cell_type": "markdown",
      "metadata": {
        "id": "6abdeaff"
      },
      "source": [
        "ANSWER)- The 'with' statement in Python is used for resource management, particularly in file handling, to ensure that resources are properly acquired and released, even if errors occur. When used with file operations, it guarantees that the file is automatically closed after the block of code is executed, regardless of whether exceptions were raised or not. This is a safer and more reliable way to handle files than manually calling the 'close()' method. It works by using context managers, which define '__enter__' and '__exit__' methods to handle resource setup and teardown."
      ]
    },
    {
      "cell_type": "markdown",
      "source": [
        "10).What are the advantages of using logging in a program?"
      ],
      "metadata": {
        "id": "V4t5airLudZ2"
      }
    },
    {
      "cell_type": "markdown",
      "metadata": {
        "id": "b98fc1b6"
      },
      "source": [
        "ANSWER)- Using logging helps with debugging, monitoring, troubleshooting, and understanding program behavior by providing a record of events with different severity levels."
      ]
    },
    {
      "cell_type": "markdown",
      "source": [
        "11).What is memory management in Python?"
      ],
      "metadata": {
        "id": "_MCAPcqIueZL"
      }
    },
    {
      "cell_type": "markdown",
      "metadata": {
        "id": "57d85c11"
      },
      "source": [
        "ANSWER)- Memory management in Python involves the process of allocating and deallocating memory for objects. Python has an automatic memory management system that uses a combination of reference counting and a garbage collector to handle memory. When an object is no longer referenced by any part of the program, Python's garbage collector reclaims the memory occupied by that object, making it available for reuse. This automatic process frees developers from manual memory management tasks, reducing the risk of memory leaks and simplifying programming."
      ]
    },
    {
      "cell_type": "markdown",
      "source": [
        "12).What are the basic steps involved in exception handling in Python?"
      ],
      "metadata": {
        "id": "L62r7aDRufXY"
      }
    },
    {
      "cell_type": "markdown",
      "metadata": {
        "id": "88157499"
      },
      "source": [
        "ANSWER)- The basic steps involved in exception handling in Python using 'try', 'except', 'else', and 'finally' are:\n",
        "\n",
        "1.  **try block:** Place the code that might potentially raise an exception inside the 'try' block.\n",
        "2.  **except block(s):** Immediately following the try block, include one or more 'except' blocks to catch specific types of exceptions. If an exception occurs in the 'try' block, Python checks if the exception type matches any of the 'except' blocks. If a match is found, the code within that 'except' block is executed.\n",
        "3.  **'else' block (optional):** You can include an optional 'else' block after all the 'except' blocks. The code in the 'else' block is executed only if the code in the 'try' block runs without raising any exceptions.\n",
        "4.  **finally block (optional):** You can include an optional 'finally' block after the 'try' and 'except' (and 'else') blocks. The code in the 'finally' block is always executed, regardless of whether an exception occurred or was handled. This is typically used for cleanup operations."
      ]
    },
    {
      "cell_type": "markdown",
      "source": [
        "13).Why is memory management important in Python?"
      ],
      "metadata": {
        "id": "Y_GLNoYPugMw"
      }
    },
    {
      "cell_type": "markdown",
      "metadata": {
        "id": "e8a25162"
      },
      "source": [
        "ANSWER)- Memory management is crucial in Python for several reasons. Efficient memory management prevents memory leaks, where memory is allocated but not released, leading to performance issues and potential program crashes. It also ensures that programs use system resources optimally, especially in applications with large datasets or long execution times. Proper memory management contributes to the overall stability, scalability, and reliability of Python programs."
      ]
    },
    {
      "cell_type": "markdown",
      "source": [
        "14).What is the role of try and except in exception handling?"
      ],
      "metadata": {
        "id": "dER_ZgkmuhSF"
      }
    },
    {
      "cell_type": "markdown",
      "metadata": {
        "id": "de8eba00"
      },
      "source": [
        "ANSWER)- In Python, the `try` and `except` blocks are fundamental for handling exceptions. The `try` block contains the code that might raise an exception. If an exception occurs within the `try` block, the code execution is immediately stopped, and Python looks for a matching `except` block. The `except` block contains the code that is executed when a specific type of exception is caught. This allows you to gracefully handle errors and prevent your program from crashing."
      ]
    },
    {
      "cell_type": "markdown",
      "source": [
        "15).How does Python's garbage collection system work?"
      ],
      "metadata": {
        "id": "3lMVsgbRuiWA"
      }
    },
    {
      "cell_type": "markdown",
      "metadata": {
        "id": "7a389760"
      },
      "source": [
        "ANSWER)- Python's garbage collection system primarily uses reference counting. When an object is created, its reference count is 1. Each time a new reference to the object is created, the reference count increases. When a reference is deleted or goes out of scope, the reference count decreases. When the reference count of an object drops to zero, the object is deallocated, and the memory it occupied is reclaimed. Python also has a cyclic garbage collector to deal with circular references, where objects refer to each other but are no longer accessible from the program."
      ]
    },
    {
      "cell_type": "markdown",
      "source": [
        "16).What is the purpose of the else block in exception handling?"
      ],
      "metadata": {
        "id": "QAXbFSKsujjS"
      }
    },
    {
      "cell_type": "markdown",
      "metadata": {
        "id": "e2a079fe"
      },
      "source": [
        "ANSWER)- The 'else' block in exception handling is used to specify a block of code that should be executed if no exception occurs in the 'try' block. It's a way to cleanly separate the code that might raise an exception from the code that should only run if the 'try' block completes successfully."
      ]
    },
    {
      "cell_type": "markdown",
      "source": [
        "17).What are the common logging levels in Python?"
      ],
      "metadata": {
        "id": "TNiaQUfBukkb"
      }
    },
    {
      "cell_type": "markdown",
      "metadata": {
        "id": "b5c41220"
      },
      "source": [
        "ANSWER)- The common logging levels in Python, in order of increasing severity, are:\n",
        "- DEBUG: Detailed information, typically only of interest when diagnosing problems.\n",
        "- INFO: Confirmation that things are working as expected.\n",
        "- WARNING: An indication that something unexpected happened, or indicative of some problem in the near future (e.g. 'disk space low'). The software is still working as expected.\n",
        "- ERROR: Due to a more serious problem, the software has not been able to perform some function.\n",
        "- CRITICAL: A serious error, indicating that the program itself may be unable to continue running."
      ]
    },
    {
      "cell_type": "markdown",
      "source": [
        "18).What is the difference between os.fork() and multiprocessing in Python?"
      ],
      "metadata": {
        "id": "5gG2zJURulYe"
      }
    },
    {
      "cell_type": "markdown",
      "metadata": {
        "id": "c0a96a10"
      },
      "source": [
        "ANSWER)- The main difference between os.fork() and the multiprocessing module in Python lies in their approach to creating new processes.\n",
        "\n",
        "*   os.fork(): This function creates a new process by duplicating the current process. The child process is an almost exact copy of the parent process, including its memory space. This is a low-level operation and is only available on Unix-like systems. Managing communication and synchronization between processes created with os.fork() can be complex.\n",
        "\n",
        "*   multiprocessing module: This module provides a higher-level, cross-platform way to create and manage processes. It offers a more convenient and robust framework for parallel execution. It handles the complexities of inter-process communication and synchronization, making it easier to write parallel programs. Unlike os.fork(), the multiprocessing module doesn't necessarily duplicate the entire parent process's memory space for each child process; it uses techniques like pickling to pass objects between processes.\n",
        "\n",
        "In general, for most modern Python applications requiring parallelism, the multiprocessing module is the preferred approach due to its ease of use, cross-platform compatibility, and better handling of inter-process communication."
      ]
    },
    {
      "cell_type": "markdown",
      "source": [
        "19).What is the importance of closing a file in Python?"
      ],
      "metadata": {
        "id": "YZQNRmSuumPH"
      }
    },
    {
      "cell_type": "markdown",
      "metadata": {
        "id": "9189a7ae"
      },
      "source": [
        "ANSWER)- Closing a file in Python is crucial for several reasons:\n",
        "\n",
        "1.  **Resource Management:** When you open a file, the operating system allocates resources (like memory buffers and file descriptors) to your program to interact with that file. Closing the file releases these resources, making them available for other processes or for your program itself to use for other tasks.\n",
        "2.  **Data Integrity:** When you write to a file, the data is often buffered in memory before being written to the actual disk. Closing the file ensures that all buffered data is flushed and written to the storage medium. If you don't close the file, some data might be lost if the program terminates unexpectedly.\n",
        "3.  **Preventing Data Corruption:** Leaving a file open when it's no longer being used can potentially lead to data corruption, especially if other processes or programs try to access or modify the same file.\n",
        "4.  **System Limits:** Operating systems have limits on the number of open files a single process can have. Failing to close files can lead to exceeding this limit, causing errors and preventing your program from opening new files.\n",
        "5.  **Consistency:** Closing a file explicitly signals the end of your interaction with that file, making your code cleaner and easier to understand.\n",
        "\n",
        "Using the \"with\" statement when working with files is the recommended practice in Python, as it automatically ensures that the file is closed properly, even if errors occur."
      ]
    },
    {
      "cell_type": "markdown",
      "source": [
        "20).What is the difference between file.read() and file.readline() in Python?"
      ],
      "metadata": {
        "id": "yyE2oSbgunNr"
      }
    },
    {
      "cell_type": "markdown",
      "metadata": {
        "id": "871daa44"
      },
      "source": [
        "ANSWER)- The difference between file.read() and file.readline() in Python lies in how much data they read from a file:\n",
        "\n",
        "*   file.read(size): This method reads the entire content of the file as a single string. If an optional size argument is provided, it reads at most size bytes from the file. If the end of the file has been reached, it returns an empty string.\n",
        "*   file.readline(size): This method reads a single line from the file, including the newline character (\\n) at the end. If an optional size argument is provided, it reads at most size bytes, but it will not read beyond the end of the current line. It returns an empty string when the end of the file is reached.\n",
        "\n",
        "In essence, read()`\\ is for reading the whole file or a specified number of bytes, while readline() is for reading one line at a time."
      ]
    },
    {
      "cell_type": "markdown",
      "source": [
        "21).What is the logging module in Python used for?"
      ],
      "metadata": {
        "id": "g4Zd-fZ1un-D"
      }
    },
    {
      "cell_type": "markdown",
      "metadata": {
        "id": "17d401c9"
      },
      "source": [
        "ANSWER)- The \"logging\" module in Python is used to provide a flexible framework for emitting log messages from applications. It allows developers to record events that occur during the execution of a program. These events can be things like errors, warnings, informational messages, or debugging details. Logging is extremely useful for debugging, monitoring, and understanding the behavior of your application, especially in production environments."
      ]
    },
    {
      "cell_type": "markdown",
      "source": [
        "22).What is the os module in Python used for in file handling?"
      ],
      "metadata": {
        "id": "dE6JD6tUupMM"
      }
    },
    {
      "cell_type": "markdown",
      "metadata": {
        "id": "c38d285f"
      },
      "source": [
        "ANSWER)- The `os` module in Python provides a way of using operating system dependent functionality. In the context of file handling, it offers functions to interact with the file system, such as:\n",
        "\n",
        "*   **Creating and deleting directories:** os.mkdir(), os.rmdir()\n",
        "*   **Changing the current directory:** os.chdir()\n",
        "*   **Listing files and directories:** os.listdir()\n",
        "*   **Renaming and removing files:** os.rename(), os.remove()\n",
        "*   **Checking if a file or directory exists:** os.path.exists()\n",
        "*   **Getting file information:** os.stat()\n",
        "\n",
        "While basic file operations like opening and closing files are done using the built-in open() function, the os module is essential for more advanced file system interactions."
      ]
    },
    {
      "cell_type": "markdown",
      "source": [
        "23).What are the challenges associated with memory management in Python?"
      ],
      "metadata": {
        "id": "wlafDVZ_ux56"
      }
    },
    {
      "cell_type": "markdown",
      "metadata": {
        "id": "b65fec12"
      },
      "source": [
        "ANSWER)- While Python's automatic memory management simplifies development, some challenges are associated with it:\n",
        "\n",
        "*   **Memory Leaks:** Although Python has garbage collection, reference cycles can sometimes prevent objects from being deallocated, leading to memory leaks.\n",
        "*   **Increased Memory Consumption:** Compared to languages with manual memory management, Python can sometimes consume more memory due to the overhead of the garbage collector and the way objects are stored.\n",
        "*   **Unpredictable Garbage Collection:** The exact timing of garbage collection is not always predictable, which can sometimes lead to performance variations, especially in memory-intensive applications.\n",
        "*   **Understanding Reference Counting:** Developers need to understand how reference counting works to avoid creating unintended reference cycles.\n",
        "*   **Large Objects:** Handling very large objects in memory can still be a challenge, and sometimes requires careful consideration of data structures and algorithms."
      ]
    },
    {
      "cell_type": "markdown",
      "source": [
        "24).How do you raise an exception manually in Python?"
      ],
      "metadata": {
        "id": "Yf29ZwGRuzBA"
      }
    },
    {
      "cell_type": "markdown",
      "metadata": {
        "id": "26202e89"
      },
      "source": [
        "ANSWER)- You can raise an exception manually in Python using the \"raise\" keyword followed by the exception you want to raise. You can also provide an optional error message as an argument to the exception constructor."
      ]
    },
    {
      "cell_type": "markdown",
      "source": [
        "25).Why is it important to use multithreading in certain applications?"
      ],
      "metadata": {
        "id": "suUEfpMKu0SP"
      }
    },
    {
      "cell_type": "markdown",
      "metadata": {
        "id": "9953e897"
      },
      "source": [
        "ANSWER)- Multithreading is important for improving responsiveness and utilizing resources efficiently in applications that involve waiting (I/O-bound tasks), allowing for concurrent execution of tasks."
      ]
    },
    {
      "cell_type": "markdown",
      "source": [
        "-------------------------- PRACTICAL QUESTION --------------------------"
      ],
      "metadata": {
        "id": "ElqBqhxhvE6o"
      }
    },
    {
      "cell_type": "markdown",
      "source": [
        "1)-How can you open a file for writing in Python and write a string to it?"
      ],
      "metadata": {
        "id": "8jeh7b1qvObV"
      }
    },
    {
      "cell_type": "code",
      "metadata": {
        "colab": {
          "base_uri": "https://localhost:8080/"
        },
        "id": "a576fc3c",
        "outputId": "4db91c19-4515-4558-a907-e9e09559da21"
      },
      "source": [
        "\n",
        "file_path = \"my_new_file.txt\"\n",
        "string_to_write = \"Hello, i am ravi kumar tanti and my age is 25\"\n",
        "\n",
        "with open(file_path, 'w') as file:\n",
        "\n",
        "    file.write(string_to_write)\n",
        "\n",
        "print(f\"Successfully wrote to {file_path}\")\n",
        "\n",
        "\n",
        "with open(file_path, 'r') as file:\n",
        "    content = file.read()\n",
        "    print(\"Content of the file:\")\n",
        "    print(content)"
      ],
      "execution_count": 48,
      "outputs": [
        {
          "output_type": "stream",
          "name": "stdout",
          "text": [
            "Successfully wrote to my_new_file.txt\n",
            "Content of the file:\n",
            "Hello, i am ravi kumar tanti and my age is 25\n"
          ]
        }
      ]
    },
    {
      "cell_type": "markdown",
      "source": [
        "2)-Write a Python program to read the contents of a file and print each line?"
      ],
      "metadata": {
        "id": "EZdXmTiRvO61"
      }
    },
    {
      "cell_type": "code",
      "source": [
        "\n",
        "file_path = \"my_new_file.txt\"\n",
        "\n",
        "try:\n",
        "    with open(file_path, 'r') as file:\n",
        "        print(f\"Content of {file_path}:\")\n",
        "\n",
        "        for line in file:\n",
        "            print(line, end='')\n",
        "except FileNotFoundError:\n",
        "    print(f\"Error: The file {file_path} was not found.\")\n",
        "except Exception as e:\n",
        "    print(f\"An error occurred: {e}\")"
      ],
      "metadata": {
        "id": "sKaJ50tWvPo7",
        "colab": {
          "base_uri": "https://localhost:8080/"
        },
        "outputId": "b36e0165-f65f-4a9e-d5d7-104e4ac91027"
      },
      "execution_count": 49,
      "outputs": [
        {
          "output_type": "stream",
          "name": "stdout",
          "text": [
            "Content of my_new_file.txt:\n",
            "Hello, i am ravi kumar tanti and my age is 25"
          ]
        }
      ]
    },
    {
      "cell_type": "markdown",
      "source": [
        "3)-How would you handle a case where the file doesn't exist while trying to open it for reading."
      ],
      "metadata": {
        "id": "RwMlBvHwvQjx"
      }
    },
    {
      "cell_type": "code",
      "source": [
        "file_path = \"non_existent_file.txt\"\n",
        "try:\n",
        "    with open(file_path, 'r') as file:\n",
        "        print(file.read())\n",
        "except FileNotFoundError:\n",
        "    print(f\"Error: The file '{file_path}' was not found.\")\n",
        "except Exception as e:\n",
        "    print(f\"An unexpected error occurred: {e}\")"
      ],
      "metadata": {
        "id": "oYOjIzTzvRKD",
        "colab": {
          "base_uri": "https://localhost:8080/"
        },
        "outputId": "e0eb002a-0ae6-4df8-8196-f4034fba6ae5"
      },
      "execution_count": 50,
      "outputs": [
        {
          "output_type": "stream",
          "name": "stdout",
          "text": [
            "Error: The file 'non_existent_file.txt' was not found.\n"
          ]
        }
      ]
    },
    {
      "cell_type": "markdown",
      "source": [
        "4)-Write a Python script that reads from one file and writes its content to another fileF."
      ],
      "metadata": {
        "id": "ZWhOahzHvRuM"
      }
    },
    {
      "cell_type": "code",
      "source": [
        "\n",
        "source_file_path = \"my_new_file.txt\"\n",
        "destination_file_path = \"my_copied_file_simple.txt\"\n",
        "\n",
        "\n",
        "with open(source_file_path, 'r') as source_file, open(destination_file_path, 'w') as destination_file:\n",
        "\n",
        "    file_content = source_file.read()\n",
        "\n",
        "    destination_file.write(file_content)\n",
        "\n",
        "print(f\"Successfully copied content from '{source_file_path}' to '{destination_file_path}'\")\n",
        "\n",
        "\n",
        "with open(destination_file_path, 'r') as file:\n",
        "    content = file.read()\n",
        "    print(f\"\\nContent of the copied file '{destination_file_path}':\")\n",
        "    print(content)"
      ],
      "metadata": {
        "id": "n1LKEK3TvSKT",
        "colab": {
          "base_uri": "https://localhost:8080/"
        },
        "outputId": "0a6f18eb-7102-40e0-bb5e-cedb87dc171f"
      },
      "execution_count": 51,
      "outputs": [
        {
          "output_type": "stream",
          "name": "stdout",
          "text": [
            "Successfully copied content from 'my_new_file.txt' to 'my_copied_file_simple.txt'\n",
            "\n",
            "Content of the copied file 'my_copied_file_simple.txt':\n",
            "Hello, i am ravi kumar tanti and my age is 25\n"
          ]
        }
      ]
    },
    {
      "cell_type": "markdown",
      "source": [
        "5)-How would you catch and handle division by zero error in Python."
      ],
      "metadata": {
        "id": "OXpvZOfCvSx8"
      }
    },
    {
      "cell_type": "code",
      "metadata": {
        "colab": {
          "base_uri": "https://localhost:8080/"
        },
        "id": "9871b412",
        "outputId": "d5aa0ff7-f4bd-4423-a3f8-ed5c97076465"
      },
      "source": [
        "try:\n",
        "    numerator = 10\n",
        "    denominator = 0\n",
        "    result = numerator / denominator\n",
        "    print(f\"The result is: {result}\")\n",
        "except ZeroDivisionError:\n",
        "    print(\"Error: Cannot divide by zero!\")\n",
        "except Exception as e:\n",
        "    print(f\"An unexpected error occurred: {e}\")"
      ],
      "execution_count": 52,
      "outputs": [
        {
          "output_type": "stream",
          "name": "stdout",
          "text": [
            "Error: Cannot divide by zero!\n"
          ]
        }
      ]
    },
    {
      "cell_type": "markdown",
      "source": [
        "6)-Write a Python program that logs an error message to a log file when a division by zero exception occursF."
      ],
      "metadata": {
        "id": "ETzcIPEnvVia"
      }
    },
    {
      "cell_type": "code",
      "source": [
        "import logging\n",
        "\n",
        "logging.basicConfig(filename='error.log', level=logging.ERROR,\n",
        "                    format='%(asctime)s:%(levelname)s:%(message)s')\n",
        "\n",
        "try:\n",
        "    numerator = 10\n",
        "    denominator = 0\n",
        "    result = numerator / denominator\n",
        "    print(f\"The result is: {result}\")\n",
        "except ZeroDivisionError:\n",
        "\n",
        "    logging.error(\"Attempted to divide by zero!\")\n",
        "    print(\"Error: Cannot divide by zero! An error has been logged.\")"
      ],
      "metadata": {
        "id": "-A26eaT0vV7w",
        "colab": {
          "base_uri": "https://localhost:8080/"
        },
        "outputId": "2d190b98-f284-49ec-8720-4be22a95454c"
      },
      "execution_count": 53,
      "outputs": [
        {
          "output_type": "stream",
          "name": "stderr",
          "text": [
            "ERROR:root:Attempted to divide by zero!\n"
          ]
        },
        {
          "output_type": "stream",
          "name": "stdout",
          "text": [
            "Error: Cannot divide by zero! An error has been logged.\n"
          ]
        }
      ]
    },
    {
      "cell_type": "markdown",
      "source": [
        "7)-How do you log information at different levels (INFO, ERROR, WARNING) in Python using the logging module?"
      ],
      "metadata": {
        "id": "1XiluttovWTt"
      }
    },
    {
      "cell_type": "code",
      "source": [
        "import logging\n",
        "\n",
        "logging.basicConfig(level=logging.INFO, format='%(asctime)s:%(levelname)s:%(message)s')\n",
        "\n",
        "logging.debug(\"This is a debug message (won't be shown with INFO level)\")\n",
        "logging.info(\"This is an informational message\")\n",
        "logging.warning(\"This is a warning message\")\n",
        "logging.error(\"This is an error message\")\n",
        "logging.critical(\"This is a critical message\")\n"
      ],
      "metadata": {
        "id": "_arS2LGCvW3X",
        "colab": {
          "base_uri": "https://localhost:8080/"
        },
        "outputId": "d3460ef6-54fc-4494-9566-b81fa2e1fb74"
      },
      "execution_count": 54,
      "outputs": [
        {
          "output_type": "stream",
          "name": "stderr",
          "text": [
            "INFO:root:This is an informational message\n",
            "WARNING:root:This is a warning message\n",
            "ERROR:root:This is an error message\n",
            "CRITICAL:root:This is a critical message\n"
          ]
        }
      ]
    },
    {
      "cell_type": "markdown",
      "source": [
        "8)-Write a program to handle a file opening error using exception handling."
      ],
      "metadata": {
        "id": "AmdMfOThvXd3"
      }
    },
    {
      "cell_type": "code",
      "source": [
        "file_path = \"non_existent_file.txt\"\n",
        "\n",
        "try:\n",
        "\n",
        "    with open(file_path, 'r') as file:\n",
        "        content = file.read()\n",
        "        print(\"File content:\")\n",
        "        print(content)\n",
        "except FileNotFoundError:\n",
        "\n",
        "    print(f\"Error: The file '{file_path}' could not be opened because it was not found.\")\n",
        "except Exception as e:\n",
        "\n",
        "    print(f\"An unexpected error occurred while opening the file: {e}\")"
      ],
      "metadata": {
        "id": "KExfCEOMvYAv",
        "colab": {
          "base_uri": "https://localhost:8080/"
        },
        "outputId": "8b25273f-4f88-46ad-98b6-1aacb4aab282"
      },
      "execution_count": 55,
      "outputs": [
        {
          "output_type": "stream",
          "name": "stdout",
          "text": [
            "Error: The file 'non_existent_file.txt' could not be opened because it was not found.\n"
          ]
        }
      ]
    },
    {
      "cell_type": "markdown",
      "source": [
        "9)-How can you read a file line by line and store its content in a list in Python?"
      ],
      "metadata": {
        "id": "7i7NsL_pvYZv"
      }
    },
    {
      "cell_type": "code",
      "source": [
        "file_path = \"my_new_file.txt\"\n",
        "lines = []\n",
        "\n",
        "try:\n",
        "\n",
        "    with open(file_path, 'r') as file:\n",
        "\n",
        "        for line in file:\n",
        "\n",
        "            lines.append(line.strip())\n",
        "    print(f\"Content of '{file_path}' stored in a list:\")\n",
        "    print(lines)\n",
        "\n",
        "except FileNotFoundError:\n",
        "    print(f\"Error: The file '{file_path}' was not found.\")\n",
        "except Exception as e:\n",
        "    print(f\"An error occurred: {e}\")"
      ],
      "metadata": {
        "id": "jIoVOC0tvY4g",
        "colab": {
          "base_uri": "https://localhost:8080/"
        },
        "outputId": "16152aa2-382f-4136-c27a-914c76a79651"
      },
      "execution_count": 56,
      "outputs": [
        {
          "output_type": "stream",
          "name": "stdout",
          "text": [
            "Content of 'my_new_file.txt' stored in a list:\n",
            "['Hello, i am ravi kumar tanti and my age is 25']\n"
          ]
        }
      ]
    },
    {
      "cell_type": "markdown",
      "source": [
        "10)- How can you append data to an existing file in Python?"
      ],
      "metadata": {
        "id": "MNG6KFREvZqf"
      }
    },
    {
      "cell_type": "code",
      "source": [
        "file_path = \"my_new_file.txt\"\n",
        "data_to_append = \"\\nThis is a new line that will be appended.\"\n",
        "\n",
        "try:\n",
        "\n",
        "    with open(file_path, 'a') as file:\n",
        "\n",
        "        file.write(data_to_append)\n",
        "\n",
        "    print(f\"Successfully appended data to {file_path}\")\n",
        "\n",
        "\n",
        "    with open(file_path, 'r') as file:\n",
        "        content = file.read()\n",
        "        print(\"Content of the file after appending:\")\n",
        "        print(content)\n",
        "\n",
        "except FileNotFoundError:\n",
        "    print(f\"Error: The file {file_path} was not found.\")\n",
        "except Exception as e:\n",
        "    print(f\"An error occurred: {e}\")"
      ],
      "metadata": {
        "id": "DmFuYho4vaJb",
        "colab": {
          "base_uri": "https://localhost:8080/"
        },
        "outputId": "d5ccd6d8-d3d2-434d-a2c4-ec676c20dc6c"
      },
      "execution_count": 57,
      "outputs": [
        {
          "output_type": "stream",
          "name": "stdout",
          "text": [
            "Successfully appended data to my_new_file.txt\n",
            "Content of the file after appending:\n",
            "Hello, i am ravi kumar tanti and my age is 25\n",
            "This is a new line that will be appended.\n"
          ]
        }
      ]
    },
    {
      "cell_type": "markdown",
      "source": [
        "11)-Write a Python program that uses a try-except block to handle an error when attempting to access a\n",
        "dictionary key that doesn't exist."
      ],
      "metadata": {
        "id": "VMK51gyLvanX"
      }
    },
    {
      "cell_type": "code",
      "source": [
        "my_dict = {\"apple\": 1, \"banana\": 2, \"cherry\": 3}\n",
        "\n",
        "try:\n",
        "\n",
        "    value = my_dict[\"grape\"]\n",
        "    print(f\"The value is: {value}\")\n",
        "except KeyError:\n",
        "\n",
        "    print(\"Error: The requested dictionary key does not exist.\")\n",
        "except Exception as e:\n",
        "\n",
        "    print(f\"An unexpected error occurred: {e}\")"
      ],
      "metadata": {
        "id": "NwOwP3aWvbBs",
        "colab": {
          "base_uri": "https://localhost:8080/"
        },
        "outputId": "febe18f5-1afe-4392-c584-19b5bdda04d1"
      },
      "execution_count": 58,
      "outputs": [
        {
          "output_type": "stream",
          "name": "stdout",
          "text": [
            "Error: The requested dictionary key does not exist.\n"
          ]
        }
      ]
    },
    {
      "cell_type": "markdown",
      "source": [
        "12)-Write a program that demonstrates using multiple except blocks to handle different types of exceptions."
      ],
      "metadata": {
        "id": "23aD-jZsvbqT"
      }
    },
    {
      "cell_type": "code",
      "source": [
        "def divide_and_convert(x, y):\n",
        "    try:\n",
        "\n",
        "        result = x / y\n",
        "\n",
        "        int_result = int(result)\n",
        "        print(f\"The integer result is: {int_result}\")\n",
        "    except ZeroDivisionError:\n",
        "        print(\"Error: Cannot divide by zero!\")\n",
        "    except (ValueError, TypeError):\n",
        "        print(\"Error: Could not convert the result to an integer.\")\n",
        "    except Exception as e:\n",
        "        print(f\"An unexpected error occurred: {e}\")\n",
        "\n",
        "divide_and_convert(10, 2)\n",
        "divide_and_convert(10, 0)\n",
        "divide_and_convert(10, \"a\")\n",
        "divide_and_convert(\"b\", 2)"
      ],
      "metadata": {
        "id": "DUftBqfcvcOy",
        "colab": {
          "base_uri": "https://localhost:8080/"
        },
        "outputId": "adf8a328-2dbc-4bbc-dd01-eaa9a109a5c2"
      },
      "execution_count": 59,
      "outputs": [
        {
          "output_type": "stream",
          "name": "stdout",
          "text": [
            "The integer result is: 5\n",
            "Error: Cannot divide by zero!\n",
            "Error: Could not convert the result to an integer.\n",
            "Error: Could not convert the result to an integer.\n"
          ]
        }
      ]
    },
    {
      "cell_type": "markdown",
      "source": [
        "13)-How would you check if a file exists before attempting to read it in Python?"
      ],
      "metadata": {
        "id": "0mM4YoKZvcqV"
      }
    },
    {
      "cell_type": "code",
      "source": [
        "import os\n",
        "\n",
        "file_path = \"my_new_file.txt\"\n",
        "\n",
        "if os.path.exists(file_path):\n",
        "    print(f\"The file '{file_path}' exists. Proceeding to read.\")\n",
        "    try:\n",
        "        with open(file_path, 'r') as file:\n",
        "            content = file.read()\n",
        "            print(\"File content:\")\n",
        "            print(content)\n",
        "    except Exception as e:\n",
        "        print(f\"An error occurred while reading the file: {e}\")\n",
        "else:\n",
        "    print(f\"Error: The file '{file_path}' does not exist.\")"
      ],
      "metadata": {
        "id": "-mLDWdmlvdEK",
        "colab": {
          "base_uri": "https://localhost:8080/"
        },
        "outputId": "e83d6a13-c4b3-433f-99ff-7a622afd7eae"
      },
      "execution_count": 60,
      "outputs": [
        {
          "output_type": "stream",
          "name": "stdout",
          "text": [
            "The file 'my_new_file.txt' exists. Proceeding to read.\n",
            "File content:\n",
            "Hello, i am ravi kumar tanti and my age is 25\n",
            "This is a new line that will be appended.\n"
          ]
        }
      ]
    },
    {
      "cell_type": "markdown",
      "source": [
        "14)-Write a program that uses the logging module to log both informational and error messagesF"
      ],
      "metadata": {
        "id": "kLIvmiPnvdfM"
      }
    },
    {
      "cell_type": "code",
      "source": [
        "import logging\n",
        "\n",
        "logging.basicConfig(level=logging.INFO, format='%(asctime)s:%(levelname)s:%(message)s')\n",
        "\n",
        "logging.info(\"This is an informational message.\")\n",
        "\n",
        "logging.error(\"This is an error message.\")\n",
        "\n",
        "logging.warning(\"This is a warning message.\")\n"
      ],
      "metadata": {
        "id": "EB7q43QUveLv",
        "colab": {
          "base_uri": "https://localhost:8080/"
        },
        "outputId": "7f68b57c-0956-434f-d5ec-ec0a8320ff26"
      },
      "execution_count": 61,
      "outputs": [
        {
          "output_type": "stream",
          "name": "stderr",
          "text": [
            "INFO:root:This is an informational message.\n",
            "ERROR:root:This is an error message.\n",
            "WARNING:root:This is a warning message.\n"
          ]
        }
      ]
    },
    {
      "cell_type": "markdown",
      "source": [
        "15)-Write a Python program that prints the content of a file and handles the case when the file is emptyF"
      ],
      "metadata": {
        "id": "utLvzpVDvepJ"
      }
    },
    {
      "cell_type": "code",
      "source": [
        "file_path = \"my_new_file.txt\"\n",
        "\n",
        "try:\n",
        "\n",
        "    with open(file_path, 'r') as file:\n",
        "        content = file.read()\n",
        "\n",
        "        if content:\n",
        "\n",
        "            print(\"File content:\")\n",
        "            print(content)\n",
        "        else:\n",
        "\n",
        "            print(f\"The file '{file_path}' is empty.\")\n",
        "\n",
        "except FileNotFoundError:\n",
        "    print(f\"Error: The file '{file_path}' was not found.\")\n",
        "except Exception as e:\n",
        "    print(f\"An error occurred while reading the file: {e}\")"
      ],
      "metadata": {
        "id": "P-R_wLeJvfFi",
        "colab": {
          "base_uri": "https://localhost:8080/"
        },
        "outputId": "257bc843-7a32-41c4-c56a-94c8691f72f7"
      },
      "execution_count": 62,
      "outputs": [
        {
          "output_type": "stream",
          "name": "stdout",
          "text": [
            "File content:\n",
            "Hello, i am ravi kumar tanti and my age is 25\n",
            "This is a new line that will be appended.\n"
          ]
        }
      ]
    },
    {
      "cell_type": "markdown",
      "source": [
        "16)-Demonstrate how to use memory profiling to check the memory usage of a small programF"
      ],
      "metadata": {
        "id": "CcoLHA8yvgGa"
      }
    },
    {
      "cell_type": "code",
      "source": [
        "# Install the memory_profiler library\n",
        "%pip install memory-profiler"
      ],
      "metadata": {
        "colab": {
          "base_uri": "https://localhost:8080/"
        },
        "id": "QIMUqRWkufwL",
        "outputId": "b3b927d5-382d-4e6e-8982-5c254a8ef713"
      },
      "execution_count": 63,
      "outputs": [
        {
          "output_type": "stream",
          "name": "stdout",
          "text": [
            "Requirement already satisfied: memory-profiler in /usr/local/lib/python3.12/dist-packages (0.61.0)\n",
            "Requirement already satisfied: psutil in /usr/local/lib/python3.12/dist-packages (from memory-profiler) (5.9.5)\n"
          ]
        }
      ]
    },
    {
      "cell_type": "code",
      "metadata": {
        "colab": {
          "base_uri": "https://localhost:8080/"
        },
        "id": "eead8c0b",
        "outputId": "fbf0b0fa-9ff1-4a8c-adf5-b3b849e9e2bc"
      },
      "source": [
        "%load_ext memory_profiler\n",
        "from memory_profiler import profile\n",
        "\n",
        "@profile\n",
        "def simple_function():\n",
        "    # Create a large list to show memory usage\n",
        "    a = [0] * 1000000\n",
        "\n",
        "simple_function()"
      ],
      "execution_count": 64,
      "outputs": [
        {
          "output_type": "stream",
          "name": "stdout",
          "text": [
            "The memory_profiler extension is already loaded. To reload it, use:\n",
            "  %reload_ext memory_profiler\n",
            "ERROR: Could not find file /tmp/ipython-input-2741901910.py\n"
          ]
        }
      ]
    },
    {
      "cell_type": "markdown",
      "source": [
        "17)-Write a Python program to create and write a list of numbers to a file, one number per lineF"
      ],
      "metadata": {
        "id": "JAkcp2urvhS7"
      }
    },
    {
      "cell_type": "code",
      "source": [
        "numbers = [10, 25, 5, 42, 17, 99, 8]\n",
        "\n",
        "file_path = \"numbers_list.txt\"\n",
        "\n",
        "try:\n",
        "\n",
        "    with open(file_path, 'w') as file:\n",
        "\n",
        "        for number in numbers:\n",
        "\n",
        "            file.write(str(number) + '\\n')\n",
        "\n",
        "    print(f\"Successfully wrote the list of numbers to {file_path}\")\n",
        "\n",
        "    with open(file_path, 'r') as file:\n",
        "        content = file.read()\n",
        "        print(\"Content of the file:\")\n",
        "        print(content)\n",
        "\n",
        "except Exception as e:\n",
        "    print(f\"An error occurred: {e}\")"
      ],
      "metadata": {
        "id": "wS3CnrA4vhym",
        "colab": {
          "base_uri": "https://localhost:8080/"
        },
        "outputId": "e908c8dd-6bc4-4e4e-9ae7-e617820a2f60"
      },
      "execution_count": 65,
      "outputs": [
        {
          "output_type": "stream",
          "name": "stdout",
          "text": [
            "Successfully wrote the list of numbers to numbers_list.txt\n",
            "Content of the file:\n",
            "10\n",
            "25\n",
            "5\n",
            "42\n",
            "17\n",
            "99\n",
            "8\n",
            "\n"
          ]
        }
      ]
    },
    {
      "cell_type": "markdown",
      "source": [
        "18)-How would you implement a basic logging setup that logs to a file with rotation after 1MB?"
      ],
      "metadata": {
        "id": "qe_nsueYviML"
      }
    },
    {
      "cell_type": "code",
      "source": [
        "import logging\n",
        "from logging.handlers import RotatingFileHandler\n",
        "\n",
        "log_file = \"rotating_log.log\"\n",
        "handler = RotatingFileHandler(log_file, maxBytes=1024 * 1024, backupCount=1)\n",
        "logger = logging.getLogger()\n",
        "logger.setLevel(logging.INFO)\n",
        "logger.addHandler(handler)\n",
        "logger.info(\"Test message for rotation.\")"
      ],
      "metadata": {
        "colab": {
          "base_uri": "https://localhost:8080/"
        },
        "id": "a0Xql-Cxs-l7",
        "outputId": "7ce77fdc-c4d9-4060-c8a0-ff56aa833e34"
      },
      "execution_count": 66,
      "outputs": [
        {
          "output_type": "stream",
          "name": "stderr",
          "text": [
            "INFO:root:Test message for rotation.\n"
          ]
        }
      ]
    },
    {
      "cell_type": "markdown",
      "source": [
        "19)-Write a program that handles both IndexError and KeyError using a try-except block"
      ],
      "metadata": {
        "id": "az0GbKdRvi_O"
      }
    },
    {
      "cell_type": "code",
      "source": [
        "def access_data(data, key_or_index):\n",
        "    try:\n",
        "\n",
        "        value = data[key_or_index]\n",
        "        print(f\"Accessed value: {value}\")\n",
        "    except (IndexError, KeyError):\n",
        "\n",
        "        print(f\"Error: Could not access data with key/index '{key_or_index}'. It might be an invalid index or a non-existent key.\")\n",
        "    except Exception as e:\n",
        "        print(f\"An unexpected error occurred: {e}\")\n",
        "\n",
        "my_list = [1, 2, 3]\n",
        "access_data(my_list, 5)\n",
        "\n",
        "my_dict = {\"a\": 1, \"b\": 2}\n",
        "access_data(my_dict, \"c\")\n",
        "\n",
        "access_data(my_list, 1)\n",
        "access_data(my_dict, \"a\")"
      ],
      "metadata": {
        "id": "sHYvKKM4vjaU",
        "colab": {
          "base_uri": "https://localhost:8080/"
        },
        "outputId": "3cac58f9-459a-4729-edb5-b4a7c9a70ae4"
      },
      "execution_count": 67,
      "outputs": [
        {
          "output_type": "stream",
          "name": "stdout",
          "text": [
            "Error: Could not access data with key/index '5'. It might be an invalid index or a non-existent key.\n",
            "Error: Could not access data with key/index 'c'. It might be an invalid index or a non-existent key.\n",
            "Accessed value: 2\n",
            "Accessed value: 1\n"
          ]
        }
      ]
    },
    {
      "cell_type": "markdown",
      "source": [
        "20)-How would you open a file and read its contents using a context manager in Python?"
      ],
      "metadata": {
        "id": "eZz68K6cvkKd"
      }
    },
    {
      "cell_type": "code",
      "source": [
        "file_path = \"my_new_file.txt\"\n",
        "try:\n",
        "\n",
        "    with open(file_path, 'r') as file:\n",
        "\n",
        "        content = file.read()\n",
        "\n",
        "        print(\"File content:\")\n",
        "        print(content)\n",
        "\n",
        "except FileNotFoundError:\n",
        "    print(f\"Error: The file '{file_path}' was not found.\")\n",
        "except Exception as e:\n",
        "    print(f\"An error occurred while reading the file: {e}\")"
      ],
      "metadata": {
        "id": "7zCMO-aOvknq",
        "colab": {
          "base_uri": "https://localhost:8080/"
        },
        "outputId": "23613440-fc00-481c-9bbd-334cfc4b935e"
      },
      "execution_count": 68,
      "outputs": [
        {
          "output_type": "stream",
          "name": "stdout",
          "text": [
            "File content:\n",
            "Hello, i am ravi kumar tanti and my age is 25\n",
            "This is a new line that will be appended.\n"
          ]
        }
      ]
    },
    {
      "cell_type": "markdown",
      "source": [
        "21)-Write a Python program that reads a file and prints the number of occurrences of a specific wordF."
      ],
      "metadata": {
        "id": "kGfWSx3EvlNJ"
      }
    },
    {
      "cell_type": "code",
      "source": [
        "file_path = \"my_new_file.txt\"\n",
        "word_to_find = \"ravi\"\n",
        "\n",
        "try:\n",
        "    with open(file_path, 'r') as file:\n",
        "        content = file.read().lower()\n",
        "\n",
        "    word_count = content.count(word_to_find.lower())\n",
        "\n",
        "    print(f\"The word '{word_to_find}' appears {word_count} times in the file.\")\n",
        "\n",
        "except FileNotFoundError:\n",
        "    print(f\"Error: The file '{file_path}' was not found.\")\n",
        "except Exception as e:\n",
        "    print(f\"An error occurred while reading the file: {e}\")"
      ],
      "metadata": {
        "id": "1iGbnRljvlof",
        "colab": {
          "base_uri": "https://localhost:8080/"
        },
        "outputId": "d10d646c-2721-4615-c8ab-6efeb2043fa7"
      },
      "execution_count": 69,
      "outputs": [
        {
          "output_type": "stream",
          "name": "stdout",
          "text": [
            "The word 'ravi' appears 1 times in the file.\n"
          ]
        }
      ]
    },
    {
      "cell_type": "markdown",
      "source": [
        "22)-How can you check if a file is empty before attempting to read its contents?"
      ],
      "metadata": {
        "id": "dNXKgg6XvmM4"
      }
    },
    {
      "cell_type": "code",
      "source": [
        "import os\n",
        "\n",
        "file_path = \"my_new_file.txt\"\n",
        "\n",
        "if os.path.exists(file_path):\n",
        "    if os.path.getsize(file_path) > 0:\n",
        "        print(f\"The file '{file_path}' is not empty. Proceeding to read.\")\n",
        "        try:\n",
        "            with open(file_path, 'r') as file:\n",
        "                content = file.read()\n",
        "                print(\"File content:\")\n",
        "                print(content)\n",
        "        except Exception as e:\n",
        "            print(f\"An error occurred while reading the file: {e}\")\n",
        "    else:\n",
        "        print(f\"The file '{file_path}' is empty.\")\n",
        "else:\n",
        "    print(f\"Error: The file '{file_path}' does not exist.\")"
      ],
      "metadata": {
        "id": "KQbBhhwjvmy9",
        "colab": {
          "base_uri": "https://localhost:8080/"
        },
        "outputId": "e3949497-6c10-4ef0-a1d4-c98ae37e9961"
      },
      "execution_count": 70,
      "outputs": [
        {
          "output_type": "stream",
          "name": "stdout",
          "text": [
            "The file 'my_new_file.txt' is not empty. Proceeding to read.\n",
            "File content:\n",
            "Hello, i am ravi kumar tanti and my age is 25\n",
            "This is a new line that will be appended.\n"
          ]
        }
      ]
    },
    {
      "cell_type": "markdown",
      "source": [
        "23)-Write a Python program that writes to a log file when an error occurs during file handling."
      ],
      "metadata": {
        "id": "eNiG0zLlvnPj"
      }
    },
    {
      "cell_type": "code",
      "source": [
        "import logging\n",
        "\n",
        "logging.basicConfig(filename='file_errors.log', level=logging.ERROR,\n",
        "                    format='%(asctime)s:%(levelname)s:%(message)s')\n",
        "\n",
        "file_path = \"non_existent_directory/my_file.txt\"\n",
        "\n",
        "try:\n",
        "\n",
        "    with open(file_path, 'w') as file:\n",
        "        file.write(\"This is a test.\")\n",
        "    print(f\"Successfully wrote to {file_path}\")\n",
        "\n",
        "except Exception as e:\n",
        "\n",
        "    logging.error(f\"An error occurred during file handling: {e}\")\n",
        "    print(f\"An error occurred during file handling: {e}. An error has been logged.\")"
      ],
      "metadata": {
        "id": "HYcZaRFwvnwY",
        "colab": {
          "base_uri": "https://localhost:8080/"
        },
        "outputId": "a8cfd754-0179-40a2-ae4f-e58a9b06e50c"
      },
      "execution_count": 71,
      "outputs": [
        {
          "output_type": "stream",
          "name": "stderr",
          "text": [
            "ERROR:root:An error occurred during file handling: [Errno 2] No such file or directory: 'non_existent_directory/my_file.txt'\n"
          ]
        },
        {
          "output_type": "stream",
          "name": "stdout",
          "text": [
            "An error occurred during file handling: [Errno 2] No such file or directory: 'non_existent_directory/my_file.txt'. An error has been logged.\n"
          ]
        }
      ]
    },
    {
      "cell_type": "code",
      "source": [],
      "metadata": {
        "id": "m-YlE8JBubLM"
      },
      "execution_count": 71,
      "outputs": []
    }
  ]
}